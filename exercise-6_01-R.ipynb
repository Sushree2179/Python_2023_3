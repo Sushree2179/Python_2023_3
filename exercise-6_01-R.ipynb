{
 "cells": [
  {
   "cell_type": "code",
   "execution_count": 1,
   "id": "0d623750",
   "metadata": {},
   "outputs": [],
   "source": [
    "bikes <- read.csv(\"~/Downloads/2013-08 - Citi Bike trip data.csv\")\n",
    "# sometimes it is better to use data.table::fread"
   ]
  },
  {
   "cell_type": "code",
   "execution_count": 3,
   "id": "132cfbda",
   "metadata": {},
   "outputs": [
    {
     "data": {
      "text/html": [
       "<table class=\"dataframe\">\n",
       "<caption>A data.frame: 6 × 15</caption>\n",
       "<thead>\n",
       "\t<tr><th></th><th scope=col>tripduration</th><th scope=col>starttime</th><th scope=col>stoptime</th><th scope=col>start.station.id</th><th scope=col>start.station.name</th><th scope=col>start.station.latitude</th><th scope=col>start.station.longitude</th><th scope=col>end.station.id</th><th scope=col>end.station.name</th><th scope=col>end.station.latitude</th><th scope=col>end.station.longitude</th><th scope=col>bikeid</th><th scope=col>usertype</th><th scope=col>birth.year</th><th scope=col>gender</th></tr>\n",
       "\t<tr><th></th><th scope=col>&lt;int&gt;</th><th scope=col>&lt;chr&gt;</th><th scope=col>&lt;chr&gt;</th><th scope=col>&lt;int&gt;</th><th scope=col>&lt;chr&gt;</th><th scope=col>&lt;dbl&gt;</th><th scope=col>&lt;dbl&gt;</th><th scope=col>&lt;int&gt;</th><th scope=col>&lt;chr&gt;</th><th scope=col>&lt;dbl&gt;</th><th scope=col>&lt;dbl&gt;</th><th scope=col>&lt;int&gt;</th><th scope=col>&lt;chr&gt;</th><th scope=col>&lt;chr&gt;</th><th scope=col>&lt;int&gt;</th></tr>\n",
       "</thead>\n",
       "<tbody>\n",
       "\t<tr><th scope=row>1</th><td> 664</td><td>2013-08-01 00:00:00</td><td>2013-08-01 00:11:04</td><td>449</td><td><span style=white-space:pre-wrap>W 52 St &amp; 9 Ave         </span></td><td>40.76462</td><td>-73.98789</td><td> 479</td><td><span style=white-space:pre-wrap>9 Ave &amp; W 45 St             </span></td><td>40.76019</td><td>-73.99126</td><td>20068</td><td>Subscriber</td><td>1944</td><td>1</td></tr>\n",
       "\t<tr><th scope=row>2</th><td>2115</td><td>2013-08-01 00:00:01</td><td>2013-08-01 00:35:16</td><td>254</td><td><span style=white-space:pre-wrap>W 11 St &amp; 6 Ave         </span></td><td>40.73532</td><td>-73.99800</td><td> 195</td><td><span style=white-space:pre-wrap>Liberty St &amp; Broadway       </span></td><td>40.70906</td><td>-74.01043</td><td>17095</td><td>Subscriber</td><td>1974</td><td>1</td></tr>\n",
       "\t<tr><th scope=row>3</th><td> 385</td><td>2013-08-01 00:00:03</td><td>2013-08-01 00:06:28</td><td>460</td><td><span style=white-space:pre-wrap>S 4 St &amp; Wythe Ave      </span></td><td>40.71286</td><td>-73.96590</td><td>2002</td><td>Wythe Ave &amp; Metropolitan Ave</td><td>40.71689</td><td>-73.96320</td><td>18197</td><td><span style=white-space:pre-wrap>Customer  </span></td><td>\\N </td><td>0</td></tr>\n",
       "\t<tr><th scope=row>4</th><td> 653</td><td>2013-08-01 00:00:10</td><td>2013-08-01 00:11:03</td><td>398</td><td>Atlantic Ave &amp; Furman St</td><td>40.69165</td><td>-73.99998</td><td> 398</td><td><span style=white-space:pre-wrap>Atlantic Ave &amp; Furman St    </span></td><td>40.69165</td><td>-73.99998</td><td>17080</td><td><span style=white-space:pre-wrap>Customer  </span></td><td>\\N </td><td>0</td></tr>\n",
       "\t<tr><th scope=row>5</th><td> 954</td><td>2013-08-01 00:00:11</td><td>2013-08-01 00:16:05</td><td>319</td><td><span style=white-space:pre-wrap>Park Pl &amp; Church St     </span></td><td>40.71336</td><td>-74.00938</td><td> 336</td><td>Sullivan St &amp; Washington Sq </td><td>40.73048</td><td>-73.99906</td><td>17967</td><td><span style=white-space:pre-wrap>Customer  </span></td><td>\\N </td><td>0</td></tr>\n",
       "\t<tr><th scope=row>6</th><td> 145</td><td>2013-08-01 00:00:37</td><td>2013-08-01 00:03:02</td><td>521</td><td><span style=white-space:pre-wrap>8 Ave &amp; W 31 St         </span></td><td>40.75045</td><td>-73.99481</td><td> 512</td><td><span style=white-space:pre-wrap>W 29 St &amp; 9 Ave             </span></td><td>40.75007</td><td>-73.99839</td><td>16299</td><td>Subscriber</td><td>1974</td><td>1</td></tr>\n",
       "</tbody>\n",
       "</table>\n"
      ],
      "text/latex": [
       "A data.frame: 6 × 15\n",
       "\\begin{tabular}{r|lllllllllllllll}\n",
       "  & tripduration & starttime & stoptime & start.station.id & start.station.name & start.station.latitude & start.station.longitude & end.station.id & end.station.name & end.station.latitude & end.station.longitude & bikeid & usertype & birth.year & gender\\\\\n",
       "  & <int> & <chr> & <chr> & <int> & <chr> & <dbl> & <dbl> & <int> & <chr> & <dbl> & <dbl> & <int> & <chr> & <chr> & <int>\\\\\n",
       "\\hline\n",
       "\t1 &  664 & 2013-08-01 00:00:00 & 2013-08-01 00:11:04 & 449 & W 52 St \\& 9 Ave          & 40.76462 & -73.98789 &  479 & 9 Ave \\& W 45 St              & 40.76019 & -73.99126 & 20068 & Subscriber & 1944 & 1\\\\\n",
       "\t2 & 2115 & 2013-08-01 00:00:01 & 2013-08-01 00:35:16 & 254 & W 11 St \\& 6 Ave          & 40.73532 & -73.99800 &  195 & Liberty St \\& Broadway        & 40.70906 & -74.01043 & 17095 & Subscriber & 1974 & 1\\\\\n",
       "\t3 &  385 & 2013-08-01 00:00:03 & 2013-08-01 00:06:28 & 460 & S 4 St \\& Wythe Ave       & 40.71286 & -73.96590 & 2002 & Wythe Ave \\& Metropolitan Ave & 40.71689 & -73.96320 & 18197 & Customer   & \\textbackslash{}N  & 0\\\\\n",
       "\t4 &  653 & 2013-08-01 00:00:10 & 2013-08-01 00:11:03 & 398 & Atlantic Ave \\& Furman St & 40.69165 & -73.99998 &  398 & Atlantic Ave \\& Furman St     & 40.69165 & -73.99998 & 17080 & Customer   & \\textbackslash{}N  & 0\\\\\n",
       "\t5 &  954 & 2013-08-01 00:00:11 & 2013-08-01 00:16:05 & 319 & Park Pl \\& Church St      & 40.71336 & -74.00938 &  336 & Sullivan St \\& Washington Sq  & 40.73048 & -73.99906 & 17967 & Customer   & \\textbackslash{}N  & 0\\\\\n",
       "\t6 &  145 & 2013-08-01 00:00:37 & 2013-08-01 00:03:02 & 521 & 8 Ave \\& W 31 St          & 40.75045 & -73.99481 &  512 & W 29 St \\& 9 Ave              & 40.75007 & -73.99839 & 16299 & Subscriber & 1974 & 1\\\\\n",
       "\\end{tabular}\n"
      ],
      "text/markdown": [
       "\n",
       "A data.frame: 6 × 15\n",
       "\n",
       "| <!--/--> | tripduration &lt;int&gt; | starttime &lt;chr&gt; | stoptime &lt;chr&gt; | start.station.id &lt;int&gt; | start.station.name &lt;chr&gt; | start.station.latitude &lt;dbl&gt; | start.station.longitude &lt;dbl&gt; | end.station.id &lt;int&gt; | end.station.name &lt;chr&gt; | end.station.latitude &lt;dbl&gt; | end.station.longitude &lt;dbl&gt; | bikeid &lt;int&gt; | usertype &lt;chr&gt; | birth.year &lt;chr&gt; | gender &lt;int&gt; |\n",
       "|---|---|---|---|---|---|---|---|---|---|---|---|---|---|---|---|\n",
       "| 1 |  664 | 2013-08-01 00:00:00 | 2013-08-01 00:11:04 | 449 | W 52 St &amp; 9 Ave          | 40.76462 | -73.98789 |  479 | 9 Ave &amp; W 45 St              | 40.76019 | -73.99126 | 20068 | Subscriber | 1944 | 1 |\n",
       "| 2 | 2115 | 2013-08-01 00:00:01 | 2013-08-01 00:35:16 | 254 | W 11 St &amp; 6 Ave          | 40.73532 | -73.99800 |  195 | Liberty St &amp; Broadway        | 40.70906 | -74.01043 | 17095 | Subscriber | 1974 | 1 |\n",
       "| 3 |  385 | 2013-08-01 00:00:03 | 2013-08-01 00:06:28 | 460 | S 4 St &amp; Wythe Ave       | 40.71286 | -73.96590 | 2002 | Wythe Ave &amp; Metropolitan Ave | 40.71689 | -73.96320 | 18197 | Customer   | \\N  | 0 |\n",
       "| 4 |  653 | 2013-08-01 00:00:10 | 2013-08-01 00:11:03 | 398 | Atlantic Ave &amp; Furman St | 40.69165 | -73.99998 |  398 | Atlantic Ave &amp; Furman St     | 40.69165 | -73.99998 | 17080 | Customer   | \\N  | 0 |\n",
       "| 5 |  954 | 2013-08-01 00:00:11 | 2013-08-01 00:16:05 | 319 | Park Pl &amp; Church St      | 40.71336 | -74.00938 |  336 | Sullivan St &amp; Washington Sq  | 40.73048 | -73.99906 | 17967 | Customer   | \\N  | 0 |\n",
       "| 6 |  145 | 2013-08-01 00:00:37 | 2013-08-01 00:03:02 | 521 | 8 Ave &amp; W 31 St          | 40.75045 | -73.99481 |  512 | W 29 St &amp; 9 Ave              | 40.75007 | -73.99839 | 16299 | Subscriber | 1974 | 1 |\n",
       "\n"
      ],
      "text/plain": [
       "  tripduration starttime           stoptime            start.station.id\n",
       "1  664         2013-08-01 00:00:00 2013-08-01 00:11:04 449             \n",
       "2 2115         2013-08-01 00:00:01 2013-08-01 00:35:16 254             \n",
       "3  385         2013-08-01 00:00:03 2013-08-01 00:06:28 460             \n",
       "4  653         2013-08-01 00:00:10 2013-08-01 00:11:03 398             \n",
       "5  954         2013-08-01 00:00:11 2013-08-01 00:16:05 319             \n",
       "6  145         2013-08-01 00:00:37 2013-08-01 00:03:02 521             \n",
       "  start.station.name       start.station.latitude start.station.longitude\n",
       "1 W 52 St & 9 Ave          40.76462               -73.98789              \n",
       "2 W 11 St & 6 Ave          40.73532               -73.99800              \n",
       "3 S 4 St & Wythe Ave       40.71286               -73.96590              \n",
       "4 Atlantic Ave & Furman St 40.69165               -73.99998              \n",
       "5 Park Pl & Church St      40.71336               -74.00938              \n",
       "6 8 Ave & W 31 St          40.75045               -73.99481              \n",
       "  end.station.id end.station.name             end.station.latitude\n",
       "1  479           9 Ave & W 45 St              40.76019            \n",
       "2  195           Liberty St & Broadway        40.70906            \n",
       "3 2002           Wythe Ave & Metropolitan Ave 40.71689            \n",
       "4  398           Atlantic Ave & Furman St     40.69165            \n",
       "5  336           Sullivan St & Washington Sq  40.73048            \n",
       "6  512           W 29 St & 9 Ave              40.75007            \n",
       "  end.station.longitude bikeid usertype   birth.year gender\n",
       "1 -73.99126             20068  Subscriber 1944       1     \n",
       "2 -74.01043             17095  Subscriber 1974       1     \n",
       "3 -73.96320             18197  Customer   \\\\N        0     \n",
       "4 -73.99998             17080  Customer   \\\\N        0     \n",
       "5 -73.99906             17967  Customer   \\\\N        0     \n",
       "6 -73.99839             16299  Subscriber 1974       1     "
      ]
     },
     "metadata": {},
     "output_type": "display_data"
    }
   ],
   "source": [
    "head(bikes)"
   ]
  },
  {
   "cell_type": "code",
   "execution_count": null,
   "id": "31598022",
   "metadata": {},
   "outputs": [],
   "source": [
    "# 1.) Let's investigate the age of people that used city bikes in August 2013"
   ]
  },
  {
   "cell_type": "code",
   "execution_count": 5,
   "id": "2c9c8baa",
   "metadata": {},
   "outputs": [
    {
     "name": "stderr",
     "output_type": "stream",
     "text": [
      "Warning message in eval(expr, envir, enclos):\n",
      "“NAs introduced by coercion”\n"
     ]
    }
   ],
   "source": [
    "# Creation of data:\n",
    "bikes$year <- as.numeric(bikes$birth.year)"
   ]
  },
  {
   "cell_type": "code",
   "execution_count": 7,
   "id": "ecaa0977",
   "metadata": {},
   "outputs": [],
   "source": [
    "bikes$age <- 2013 - bikes$year # the age of people using the bikes in August 2013"
   ]
  },
  {
   "cell_type": "code",
   "execution_count": 8,
   "id": "1921ae70",
   "metadata": {},
   "outputs": [
    {
     "data": {
      "text/html": [
       "<table class=\"dataframe\">\n",
       "<caption>A data.frame: 6 × 17</caption>\n",
       "<thead>\n",
       "\t<tr><th></th><th scope=col>tripduration</th><th scope=col>starttime</th><th scope=col>stoptime</th><th scope=col>start.station.id</th><th scope=col>start.station.name</th><th scope=col>start.station.latitude</th><th scope=col>start.station.longitude</th><th scope=col>end.station.id</th><th scope=col>end.station.name</th><th scope=col>end.station.latitude</th><th scope=col>end.station.longitude</th><th scope=col>bikeid</th><th scope=col>usertype</th><th scope=col>birth.year</th><th scope=col>gender</th><th scope=col>year</th><th scope=col>age</th></tr>\n",
       "\t<tr><th></th><th scope=col>&lt;int&gt;</th><th scope=col>&lt;chr&gt;</th><th scope=col>&lt;chr&gt;</th><th scope=col>&lt;int&gt;</th><th scope=col>&lt;chr&gt;</th><th scope=col>&lt;dbl&gt;</th><th scope=col>&lt;dbl&gt;</th><th scope=col>&lt;int&gt;</th><th scope=col>&lt;chr&gt;</th><th scope=col>&lt;dbl&gt;</th><th scope=col>&lt;dbl&gt;</th><th scope=col>&lt;int&gt;</th><th scope=col>&lt;chr&gt;</th><th scope=col>&lt;chr&gt;</th><th scope=col>&lt;int&gt;</th><th scope=col>&lt;dbl&gt;</th><th scope=col>&lt;dbl&gt;</th></tr>\n",
       "</thead>\n",
       "<tbody>\n",
       "\t<tr><th scope=row>1</th><td> 664</td><td>2013-08-01 00:00:00</td><td>2013-08-01 00:11:04</td><td>449</td><td><span style=white-space:pre-wrap>W 52 St &amp; 9 Ave         </span></td><td>40.76462</td><td>-73.98789</td><td> 479</td><td><span style=white-space:pre-wrap>9 Ave &amp; W 45 St             </span></td><td>40.76019</td><td>-73.99126</td><td>20068</td><td>Subscriber</td><td>1944</td><td>1</td><td>1944</td><td>69</td></tr>\n",
       "\t<tr><th scope=row>2</th><td>2115</td><td>2013-08-01 00:00:01</td><td>2013-08-01 00:35:16</td><td>254</td><td><span style=white-space:pre-wrap>W 11 St &amp; 6 Ave         </span></td><td>40.73532</td><td>-73.99800</td><td> 195</td><td><span style=white-space:pre-wrap>Liberty St &amp; Broadway       </span></td><td>40.70906</td><td>-74.01043</td><td>17095</td><td>Subscriber</td><td>1974</td><td>1</td><td>1974</td><td>39</td></tr>\n",
       "\t<tr><th scope=row>3</th><td> 385</td><td>2013-08-01 00:00:03</td><td>2013-08-01 00:06:28</td><td>460</td><td><span style=white-space:pre-wrap>S 4 St &amp; Wythe Ave      </span></td><td>40.71286</td><td>-73.96590</td><td>2002</td><td>Wythe Ave &amp; Metropolitan Ave</td><td>40.71689</td><td>-73.96320</td><td>18197</td><td><span style=white-space:pre-wrap>Customer  </span></td><td>\\N </td><td>0</td><td><span style=white-space:pre-wrap>  NA</span></td><td>NA</td></tr>\n",
       "\t<tr><th scope=row>4</th><td> 653</td><td>2013-08-01 00:00:10</td><td>2013-08-01 00:11:03</td><td>398</td><td>Atlantic Ave &amp; Furman St</td><td>40.69165</td><td>-73.99998</td><td> 398</td><td><span style=white-space:pre-wrap>Atlantic Ave &amp; Furman St    </span></td><td>40.69165</td><td>-73.99998</td><td>17080</td><td><span style=white-space:pre-wrap>Customer  </span></td><td>\\N </td><td>0</td><td><span style=white-space:pre-wrap>  NA</span></td><td>NA</td></tr>\n",
       "\t<tr><th scope=row>5</th><td> 954</td><td>2013-08-01 00:00:11</td><td>2013-08-01 00:16:05</td><td>319</td><td><span style=white-space:pre-wrap>Park Pl &amp; Church St     </span></td><td>40.71336</td><td>-74.00938</td><td> 336</td><td>Sullivan St &amp; Washington Sq </td><td>40.73048</td><td>-73.99906</td><td>17967</td><td><span style=white-space:pre-wrap>Customer  </span></td><td>\\N </td><td>0</td><td><span style=white-space:pre-wrap>  NA</span></td><td>NA</td></tr>\n",
       "\t<tr><th scope=row>6</th><td> 145</td><td>2013-08-01 00:00:37</td><td>2013-08-01 00:03:02</td><td>521</td><td><span style=white-space:pre-wrap>8 Ave &amp; W 31 St         </span></td><td>40.75045</td><td>-73.99481</td><td> 512</td><td><span style=white-space:pre-wrap>W 29 St &amp; 9 Ave             </span></td><td>40.75007</td><td>-73.99839</td><td>16299</td><td>Subscriber</td><td>1974</td><td>1</td><td>1974</td><td>39</td></tr>\n",
       "</tbody>\n",
       "</table>\n"
      ],
      "text/latex": [
       "A data.frame: 6 × 17\n",
       "\\begin{tabular}{r|lllllllllllllllll}\n",
       "  & tripduration & starttime & stoptime & start.station.id & start.station.name & start.station.latitude & start.station.longitude & end.station.id & end.station.name & end.station.latitude & end.station.longitude & bikeid & usertype & birth.year & gender & year & age\\\\\n",
       "  & <int> & <chr> & <chr> & <int> & <chr> & <dbl> & <dbl> & <int> & <chr> & <dbl> & <dbl> & <int> & <chr> & <chr> & <int> & <dbl> & <dbl>\\\\\n",
       "\\hline\n",
       "\t1 &  664 & 2013-08-01 00:00:00 & 2013-08-01 00:11:04 & 449 & W 52 St \\& 9 Ave          & 40.76462 & -73.98789 &  479 & 9 Ave \\& W 45 St              & 40.76019 & -73.99126 & 20068 & Subscriber & 1944 & 1 & 1944 & 69\\\\\n",
       "\t2 & 2115 & 2013-08-01 00:00:01 & 2013-08-01 00:35:16 & 254 & W 11 St \\& 6 Ave          & 40.73532 & -73.99800 &  195 & Liberty St \\& Broadway        & 40.70906 & -74.01043 & 17095 & Subscriber & 1974 & 1 & 1974 & 39\\\\\n",
       "\t3 &  385 & 2013-08-01 00:00:03 & 2013-08-01 00:06:28 & 460 & S 4 St \\& Wythe Ave       & 40.71286 & -73.96590 & 2002 & Wythe Ave \\& Metropolitan Ave & 40.71689 & -73.96320 & 18197 & Customer   & \\textbackslash{}N  & 0 &   NA & NA\\\\\n",
       "\t4 &  653 & 2013-08-01 00:00:10 & 2013-08-01 00:11:03 & 398 & Atlantic Ave \\& Furman St & 40.69165 & -73.99998 &  398 & Atlantic Ave \\& Furman St     & 40.69165 & -73.99998 & 17080 & Customer   & \\textbackslash{}N  & 0 &   NA & NA\\\\\n",
       "\t5 &  954 & 2013-08-01 00:00:11 & 2013-08-01 00:16:05 & 319 & Park Pl \\& Church St      & 40.71336 & -74.00938 &  336 & Sullivan St \\& Washington Sq  & 40.73048 & -73.99906 & 17967 & Customer   & \\textbackslash{}N  & 0 &   NA & NA\\\\\n",
       "\t6 &  145 & 2013-08-01 00:00:37 & 2013-08-01 00:03:02 & 521 & 8 Ave \\& W 31 St          & 40.75045 & -73.99481 &  512 & W 29 St \\& 9 Ave              & 40.75007 & -73.99839 & 16299 & Subscriber & 1974 & 1 & 1974 & 39\\\\\n",
       "\\end{tabular}\n"
      ],
      "text/markdown": [
       "\n",
       "A data.frame: 6 × 17\n",
       "\n",
       "| <!--/--> | tripduration &lt;int&gt; | starttime &lt;chr&gt; | stoptime &lt;chr&gt; | start.station.id &lt;int&gt; | start.station.name &lt;chr&gt; | start.station.latitude &lt;dbl&gt; | start.station.longitude &lt;dbl&gt; | end.station.id &lt;int&gt; | end.station.name &lt;chr&gt; | end.station.latitude &lt;dbl&gt; | end.station.longitude &lt;dbl&gt; | bikeid &lt;int&gt; | usertype &lt;chr&gt; | birth.year &lt;chr&gt; | gender &lt;int&gt; | year &lt;dbl&gt; | age &lt;dbl&gt; |\n",
       "|---|---|---|---|---|---|---|---|---|---|---|---|---|---|---|---|---|---|\n",
       "| 1 |  664 | 2013-08-01 00:00:00 | 2013-08-01 00:11:04 | 449 | W 52 St &amp; 9 Ave          | 40.76462 | -73.98789 |  479 | 9 Ave &amp; W 45 St              | 40.76019 | -73.99126 | 20068 | Subscriber | 1944 | 1 | 1944 | 69 |\n",
       "| 2 | 2115 | 2013-08-01 00:00:01 | 2013-08-01 00:35:16 | 254 | W 11 St &amp; 6 Ave          | 40.73532 | -73.99800 |  195 | Liberty St &amp; Broadway        | 40.70906 | -74.01043 | 17095 | Subscriber | 1974 | 1 | 1974 | 39 |\n",
       "| 3 |  385 | 2013-08-01 00:00:03 | 2013-08-01 00:06:28 | 460 | S 4 St &amp; Wythe Ave       | 40.71286 | -73.96590 | 2002 | Wythe Ave &amp; Metropolitan Ave | 40.71689 | -73.96320 | 18197 | Customer   | \\N  | 0 |   NA | NA |\n",
       "| 4 |  653 | 2013-08-01 00:00:10 | 2013-08-01 00:11:03 | 398 | Atlantic Ave &amp; Furman St | 40.69165 | -73.99998 |  398 | Atlantic Ave &amp; Furman St     | 40.69165 | -73.99998 | 17080 | Customer   | \\N  | 0 |   NA | NA |\n",
       "| 5 |  954 | 2013-08-01 00:00:11 | 2013-08-01 00:16:05 | 319 | Park Pl &amp; Church St      | 40.71336 | -74.00938 |  336 | Sullivan St &amp; Washington Sq  | 40.73048 | -73.99906 | 17967 | Customer   | \\N  | 0 |   NA | NA |\n",
       "| 6 |  145 | 2013-08-01 00:00:37 | 2013-08-01 00:03:02 | 521 | 8 Ave &amp; W 31 St          | 40.75045 | -73.99481 |  512 | W 29 St &amp; 9 Ave              | 40.75007 | -73.99839 | 16299 | Subscriber | 1974 | 1 | 1974 | 39 |\n",
       "\n"
      ],
      "text/plain": [
       "  tripduration starttime           stoptime            start.station.id\n",
       "1  664         2013-08-01 00:00:00 2013-08-01 00:11:04 449             \n",
       "2 2115         2013-08-01 00:00:01 2013-08-01 00:35:16 254             \n",
       "3  385         2013-08-01 00:00:03 2013-08-01 00:06:28 460             \n",
       "4  653         2013-08-01 00:00:10 2013-08-01 00:11:03 398             \n",
       "5  954         2013-08-01 00:00:11 2013-08-01 00:16:05 319             \n",
       "6  145         2013-08-01 00:00:37 2013-08-01 00:03:02 521             \n",
       "  start.station.name       start.station.latitude start.station.longitude\n",
       "1 W 52 St & 9 Ave          40.76462               -73.98789              \n",
       "2 W 11 St & 6 Ave          40.73532               -73.99800              \n",
       "3 S 4 St & Wythe Ave       40.71286               -73.96590              \n",
       "4 Atlantic Ave & Furman St 40.69165               -73.99998              \n",
       "5 Park Pl & Church St      40.71336               -74.00938              \n",
       "6 8 Ave & W 31 St          40.75045               -73.99481              \n",
       "  end.station.id end.station.name             end.station.latitude\n",
       "1  479           9 Ave & W 45 St              40.76019            \n",
       "2  195           Liberty St & Broadway        40.70906            \n",
       "3 2002           Wythe Ave & Metropolitan Ave 40.71689            \n",
       "4  398           Atlantic Ave & Furman St     40.69165            \n",
       "5  336           Sullivan St & Washington Sq  40.73048            \n",
       "6  512           W 29 St & 9 Ave              40.75007            \n",
       "  end.station.longitude bikeid usertype   birth.year gender year age\n",
       "1 -73.99126             20068  Subscriber 1944       1      1944 69 \n",
       "2 -74.01043             17095  Subscriber 1974       1      1974 39 \n",
       "3 -73.96320             18197  Customer   \\\\N        0        NA NA \n",
       "4 -73.99998             17080  Customer   \\\\N        0        NA NA \n",
       "5 -73.99906             17967  Customer   \\\\N        0        NA NA \n",
       "6 -73.99839             16299  Subscriber 1974       1      1974 39 "
      ]
     },
     "metadata": {},
     "output_type": "display_data"
    }
   ],
   "source": [
    "head(bikes)"
   ]
  },
  {
   "cell_type": "code",
   "execution_count": 9,
   "id": "a823489a",
   "metadata": {},
   "outputs": [
    {
     "data": {
      "image/png": "[encoded data removed]",
      "text/plain": [
       "plot without title"
      ]
     },
     "metadata": {
      "image/png": {
       "height": 420,
       "width": 420
      }
     },
     "output_type": "display_data"
    }
   ],
   "source": [
    "boxplot(bikes$age)"
   ]
  },
  {
   "cell_type": "code",
   "execution_count": 10,
   "id": "356bf0f7",
   "metadata": {},
   "outputs": [
    {
     "data": {
      "image/png": "[encoded data removed]",
      "text/plain": [
       "Plot with title “Histogram of bikes$age”"
      ]
     },
     "metadata": {
      "image/png": {
       "height": 420,
       "width": 420
      }
     },
     "output_type": "display_data"
    }
   ],
   "source": [
    "hist(bikes$age)"
   ]
  },
  {
   "cell_type": "code",
   "execution_count": 11,
   "id": "9703195e",
   "metadata": {},
   "outputs": [
    {
     "data": {
      "text/plain": [
       "   Min. 1st Qu.  Median    Mean 3rd Qu.    Max.    NA's \n",
       "  16.00   29.00   35.00   37.24   44.00  114.00  186014 "
      ]
     },
     "metadata": {},
     "output_type": "display_data"
    }
   ],
   "source": [
    "summary(bikes$age)"
   ]
  },
  {
   "cell_type": "code",
   "execution_count": 13,
   "id": "8510d8e2",
   "metadata": {},
   "outputs": [],
   "source": [
    "groups <- split(bikes$age, bikes$gender)"
   ]
  },
  {
   "cell_type": "code",
   "execution_count": 14,
   "id": "8f482732",
   "metadata": {},
   "outputs": [
    {
     "name": "stdout",
     "output_type": "stream",
     "text": [
      "List of 3\n",
      " $ 0: num [1:186096] NA NA NA NA NA NA NA NA NA NA ...\n",
      " $ 1: num [1:616914] 69 39 39 31 27 28 22 29 36 28 ...\n",
      " $ 2: num [1:198948] 30 38 24 23 31 30 36 24 50 31 ...\n"
     ]
    }
   ],
   "source": [
    "str(groups)"
   ]
  },
  {
   "cell_type": "code",
   "execution_count": 17,
   "id": "653e0ec4",
   "metadata": {},
   "outputs": [
    {
     "data": {
      "image/png": "[encoded data removed]",
      "text/plain": [
       "plot without title"
      ]
     },
     "metadata": {
      "image/png": {
       "height": 420,
       "width": 420
      }
     },
     "output_type": "display_data"
    }
   ],
   "source": [
    "b <- boxplot(groups)"
   ]
  },
  {
   "cell_type": "code",
   "execution_count": 16,
   "id": "66ee5f42",
   "metadata": {},
   "outputs": [
    {
     "data": {
      "text/plain": [
       "   Min. 1st Qu.  Median    Mean 3rd Qu.    Max.    NA's \n",
       "  18.00   18.00   40.00   38.65   62.00   62.00  186002 "
      ]
     },
     "metadata": {},
     "output_type": "display_data"
    }
   ],
   "source": [
    "summary(groups[[1]])"
   ]
  },
  {
   "cell_type": "code",
   "execution_count": 18,
   "id": "970e4f17",
   "metadata": {},
   "outputs": [
    {
     "data": {
      "text/html": [
       "'list'"
      ],
      "text/latex": [
       "'list'"
      ],
      "text/markdown": [
       "'list'"
      ],
      "text/plain": [
       "[1] \"list\""
      ]
     },
     "metadata": {},
     "output_type": "display_data"
    }
   ],
   "source": [
    "typeof(b)"
   ]
  },
  {
   "cell_type": "code",
   "execution_count": 19,
   "id": "981b6e85",
   "metadata": {},
   "outputs": [
    {
     "name": "stdout",
     "output_type": "stream",
     "text": [
      "List of 6\n",
      " $ stats: num [1:5, 1:3] 18 18 40 62 62 16 29 35 44 66 ...\n",
      " $ n    : num [1:3] 94 616902 198948\n",
      " $ conf : num [1:2, 1:3] 32.8 47.2 35 35 33 ...\n",
      " $ out  : num [1:7449] 69 72 72 72 68 68 68 68 78 73 ...\n",
      " $ group: num [1:7449] 2 2 2 2 2 2 2 2 2 2 ...\n",
      " $ names: chr [1:3] \"0\" \"1\" \"2\"\n"
     ]
    }
   ],
   "source": [
    "str(b)"
   ]
  },
  {
   "cell_type": "code",
   "execution_count": 21,
   "id": "66fe4b7f",
   "metadata": {},
   "outputs": [
    {
     "data": {
      "text/plain": [
       "   Min. 1st Qu.  Median    Mean 3rd Qu.    Max. \n",
       "  64.00   67.00   69.00   71.74   72.00  114.00 "
      ]
     },
     "metadata": {},
     "output_type": "display_data"
    }
   ],
   "source": [
    "summary(b$out) # outliers :)"
   ]
  },
  {
   "cell_type": "code",
   "execution_count": 23,
   "id": "6bf3414f",
   "metadata": {},
   "outputs": [
    {
     "data": {
      "text/html": [
       "<style>\n",
       ".list-inline {list-style: none; margin:0; padding: 0}\n",
       ".list-inline>li {display: inline-block}\n",
       ".list-inline>li:not(:last-child)::after {content: \"\\00b7\"; padding: 0 .5ex}\n",
       "</style>\n",
       "<ol class=list-inline><li>'tripduration'</li><li>'starttime'</li><li>'stoptime'</li><li>'start.station.id'</li><li>'start.station.name'</li><li>'start.station.latitude'</li><li>'start.station.longitude'</li><li>'end.station.id'</li><li>'end.station.name'</li><li>'end.station.latitude'</li><li>'end.station.longitude'</li><li>'bikeid'</li><li>'usertype'</li><li>'birth.year'</li><li>'gender'</li><li>'year'</li><li>'age'</li></ol>\n"
      ],
      "text/latex": [
       "\\begin{enumerate*}\n",
       "\\item 'tripduration'\n",
       "\\item 'starttime'\n",
       "\\item 'stoptime'\n",
       "\\item 'start.station.id'\n",
       "\\item 'start.station.name'\n",
       "\\item 'start.station.latitude'\n",
       "\\item 'start.station.longitude'\n",
       "\\item 'end.station.id'\n",
       "\\item 'end.station.name'\n",
       "\\item 'end.station.latitude'\n",
       "\\item 'end.station.longitude'\n",
       "\\item 'bikeid'\n",
       "\\item 'usertype'\n",
       "\\item 'birth.year'\n",
       "\\item 'gender'\n",
       "\\item 'year'\n",
       "\\item 'age'\n",
       "\\end{enumerate*}\n"
      ],
      "text/markdown": [
       "1. 'tripduration'\n",
       "2. 'starttime'\n",
       "3. 'stoptime'\n",
       "4. 'start.station.id'\n",
       "5. 'start.station.name'\n",
       "6. 'start.station.latitude'\n",
       "7. 'start.station.longitude'\n",
       "8. 'end.station.id'\n",
       "9. 'end.station.name'\n",
       "10. 'end.station.latitude'\n",
       "11. 'end.station.longitude'\n",
       "12. 'bikeid'\n",
       "13. 'usertype'\n",
       "14. 'birth.year'\n",
       "15. 'gender'\n",
       "16. 'year'\n",
       "17. 'age'\n",
       "\n",
       "\n"
      ],
      "text/plain": [
       " [1] \"tripduration\"            \"starttime\"              \n",
       " [3] \"stoptime\"                \"start.station.id\"       \n",
       " [5] \"start.station.name\"      \"start.station.latitude\" \n",
       " [7] \"start.station.longitude\" \"end.station.id\"         \n",
       " [9] \"end.station.name\"        \"end.station.latitude\"   \n",
       "[11] \"end.station.longitude\"   \"bikeid\"                 \n",
       "[13] \"usertype\"                \"birth.year\"             \n",
       "[15] \"gender\"                  \"year\"                   \n",
       "[17] \"age\"                    "
      ]
     },
     "metadata": {},
     "output_type": "display_data"
    }
   ],
   "source": [
    "colnames(bikes)"
   ]
  },
  {
   "cell_type": "code",
   "execution_count": 25,
   "id": "a3fcaff0",
   "metadata": {},
   "outputs": [],
   "source": [
    "# 2.) Let's look into time of the rides\n",
    "trips <- bikes$tripduration/ (60*60)"
   ]
  },
  {
   "cell_type": "code",
   "execution_count": 27,
   "id": "f0758f56",
   "metadata": {},
   "outputs": [
    {
     "data": {
      "image/png": "[encoded data removed]",
      "text/plain": [
       "plot without title"
      ]
     },
     "metadata": {
      "image/png": {
       "height": 420,
       "width": 420
      }
     },
     "output_type": "display_data"
    }
   ],
   "source": [
    "boxplot(trips)"
   ]
  },
  {
   "cell_type": "code",
   "execution_count": 29,
   "id": "5e6ca56e",
   "metadata": {},
   "outputs": [],
   "source": [
    "idx <- which.max(bikes$tripduration) # the longest trip"
   ]
  },
  {
   "cell_type": "code",
   "execution_count": 30,
   "id": "f7e5faa9",
   "metadata": {},
   "outputs": [
    {
     "data": {
      "text/html": [
       "<table class=\"dataframe\">\n",
       "<caption>A data.frame: 1 × 17</caption>\n",
       "<thead>\n",
       "\t<tr><th></th><th scope=col>tripduration</th><th scope=col>starttime</th><th scope=col>stoptime</th><th scope=col>start.station.id</th><th scope=col>start.station.name</th><th scope=col>start.station.latitude</th><th scope=col>start.station.longitude</th><th scope=col>end.station.id</th><th scope=col>end.station.name</th><th scope=col>end.station.latitude</th><th scope=col>end.station.longitude</th><th scope=col>bikeid</th><th scope=col>usertype</th><th scope=col>birth.year</th><th scope=col>gender</th><th scope=col>year</th><th scope=col>age</th></tr>\n",
       "\t<tr><th></th><th scope=col>&lt;int&gt;</th><th scope=col>&lt;chr&gt;</th><th scope=col>&lt;chr&gt;</th><th scope=col>&lt;int&gt;</th><th scope=col>&lt;chr&gt;</th><th scope=col>&lt;dbl&gt;</th><th scope=col>&lt;dbl&gt;</th><th scope=col>&lt;int&gt;</th><th scope=col>&lt;chr&gt;</th><th scope=col>&lt;dbl&gt;</th><th scope=col>&lt;dbl&gt;</th><th scope=col>&lt;int&gt;</th><th scope=col>&lt;chr&gt;</th><th scope=col>&lt;chr&gt;</th><th scope=col>&lt;int&gt;</th><th scope=col>&lt;dbl&gt;</th><th scope=col>&lt;dbl&gt;</th></tr>\n",
       "</thead>\n",
       "<tbody>\n",
       "\t<tr><th scope=row>192364</th><td>761793</td><td>2013-08-06 21:11:40</td><td>2013-08-15 16:48:13</td><td>229</td><td>Great Jones St</td><td>40.72743</td><td>-73.99379</td><td>342</td><td>Columbia St &amp; Rivington St</td><td>40.7174</td><td>-73.98017</td><td>15941</td><td>Subscriber</td><td>1979</td><td>1</td><td>1979</td><td>34</td></tr>\n",
       "</tbody>\n",
       "</table>\n"
      ],
      "text/latex": [
       "A data.frame: 1 × 17\n",
       "\\begin{tabular}{r|lllllllllllllllll}\n",
       "  & tripduration & starttime & stoptime & start.station.id & start.station.name & start.station.latitude & start.station.longitude & end.station.id & end.station.name & end.station.latitude & end.station.longitude & bikeid & usertype & birth.year & gender & year & age\\\\\n",
       "  & <int> & <chr> & <chr> & <int> & <chr> & <dbl> & <dbl> & <int> & <chr> & <dbl> & <dbl> & <int> & <chr> & <chr> & <int> & <dbl> & <dbl>\\\\\n",
       "\\hline\n",
       "\t192364 & 761793 & 2013-08-06 21:11:40 & 2013-08-15 16:48:13 & 229 & Great Jones St & 40.72743 & -73.99379 & 342 & Columbia St \\& Rivington St & 40.7174 & -73.98017 & 15941 & Subscriber & 1979 & 1 & 1979 & 34\\\\\n",
       "\\end{tabular}\n"
      ],
      "text/markdown": [
       "\n",
       "A data.frame: 1 × 17\n",
       "\n",
       "| <!--/--> | tripduration &lt;int&gt; | starttime &lt;chr&gt; | stoptime &lt;chr&gt; | start.station.id &lt;int&gt; | start.station.name &lt;chr&gt; | start.station.latitude &lt;dbl&gt; | start.station.longitude &lt;dbl&gt; | end.station.id &lt;int&gt; | end.station.name &lt;chr&gt; | end.station.latitude &lt;dbl&gt; | end.station.longitude &lt;dbl&gt; | bikeid &lt;int&gt; | usertype &lt;chr&gt; | birth.year &lt;chr&gt; | gender &lt;int&gt; | year &lt;dbl&gt; | age &lt;dbl&gt; |\n",
       "|---|---|---|---|---|---|---|---|---|---|---|---|---|---|---|---|---|---|\n",
       "| 192364 | 761793 | 2013-08-06 21:11:40 | 2013-08-15 16:48:13 | 229 | Great Jones St | 40.72743 | -73.99379 | 342 | Columbia St &amp; Rivington St | 40.7174 | -73.98017 | 15941 | Subscriber | 1979 | 1 | 1979 | 34 |\n",
       "\n"
      ],
      "text/plain": [
       "       tripduration starttime           stoptime            start.station.id\n",
       "192364 761793       2013-08-06 21:11:40 2013-08-15 16:48:13 229             \n",
       "       start.station.name start.station.latitude start.station.longitude\n",
       "192364 Great Jones St     40.72743               -73.99379              \n",
       "       end.station.id end.station.name           end.station.latitude\n",
       "192364 342            Columbia St & Rivington St 40.7174             \n",
       "       end.station.longitude bikeid usertype   birth.year gender year age\n",
       "192364 -73.98017             15941  Subscriber 1979       1      1979 34 "
      ]
     },
     "metadata": {},
     "output_type": "display_data"
    }
   ],
   "source": [
    "bikes[idx, ]"
   ]
  }
 ],
 "metadata": {
  "kernelspec": {
   "display_name": "R",
   "language": "R",
   "name": "ir"
  },
  "language_info": {
   "codemirror_mode": "r",
   "file_extension": ".r",
   "mimetype": "text/x-r-source",
   "name": "R",
   "pygments_lexer": "r",
   "version": "4.1.2"
  }
 },
 "nbformat": 4,
 "nbformat_minor": 5
}
