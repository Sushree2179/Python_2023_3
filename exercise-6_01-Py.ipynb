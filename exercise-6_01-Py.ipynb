{
 "cells": [
  {
   "cell_type": "code",
   "execution_count": 1,
   "id": "54e7a4e0",
   "metadata": {},
   "outputs": [],
   "source": [
    "import numpy as np\n",
    "import pandas as pd\n",
    "import seaborn as sns\n",
    "import matplotlib.pyplot as plt"
   ]
  },
  {
   "cell_type": "code",
   "execution_count": 2,
   "id": "80152ad2",
   "metadata": {},
   "outputs": [],
   "source": [
    "bikes = pd.read_csv('/home/anna/Downloads/2013-08 - Citi Bike trip data.csv')"
   ]
  },
  {
   "cell_type": "code",
   "execution_count": 3,
   "id": "7d4d9ed2",
   "metadata": {},
   "outputs": [
    {
     "name": "stdout",
     "output_type": "stream",
     "text": [
      "<class 'pandas.core.frame.DataFrame'>\n",
      "RangeIndex: 1001958 entries, 0 to 1001957\n",
      "Data columns (total 15 columns):\n",
      " #   Column                   Non-Null Count    Dtype  \n",
      "---  ------                   --------------    -----  \n",
      " 0   tripduration             1001958 non-null  int64  \n",
      " 1   starttime                1001958 non-null  object \n",
      " 2   stoptime                 1001958 non-null  object \n",
      " 3   start station id         1001958 non-null  int64  \n",
      " 4   start station name       1001958 non-null  object \n",
      " 5   start station latitude   1001958 non-null  float64\n",
      " 6   start station longitude  1001958 non-null  float64\n",
      " 7   end station id           1001958 non-null  int64  \n",
      " 8   end station name         1001958 non-null  object \n",
      " 9   end station latitude     1001958 non-null  float64\n",
      " 10  end station longitude    1001958 non-null  float64\n",
      " 11  bikeid                   1001958 non-null  int64  \n",
      " 12  usertype                 1001958 non-null  object \n",
      " 13  birth year               1001958 non-null  object \n",
      " 14  gender                   1001958 non-null  int64  \n",
      "dtypes: float64(4), int64(5), object(6)\n",
      "memory usage: 114.7+ MB\n"
     ]
    }
   ],
   "source": [
    "bikes.info()"
   ]
  },
  {
   "cell_type": "code",
   "execution_count": 4,
   "id": "5054b44e",
   "metadata": {},
   "outputs": [
    {
     "data": {
      "text/plain": [
       "gender\n",
       "0    186096\n",
       "1    616914\n",
       "2    198948\n",
       "dtype: int64"
      ]
     },
     "execution_count": 4,
     "metadata": {},
     "output_type": "execute_result"
    }
   ],
   "source": [
    "# Number of rides for specific gender:\n",
    "# Who rides the most?\n",
    "bikes.groupby('gender').size()\n",
    "# Gender (Zero=unknown; 1=male; 2=female)"
   ]
  },
  {
   "cell_type": "code",
   "execution_count": 5,
   "id": "ae2eef38",
   "metadata": {},
   "outputs": [],
   "source": [
    "y = bikes.groupby('gender').size()"
   ]
  },
  {
   "cell_type": "code",
   "execution_count": 7,
   "id": "81d73f91",
   "metadata": {},
   "outputs": [],
   "source": [
    "y.index = [\"Unknown\", \"Male\", \"Female\"]"
   ]
  },
  {
   "cell_type": "code",
   "execution_count": 8,
   "id": "e1c17934",
   "metadata": {},
   "outputs": [
    {
     "data": {
      "text/plain": [
       "Unknown    186096\n",
       "Male       616914\n",
       "Female     198948\n",
       "dtype: int64"
      ]
     },
     "execution_count": 8,
     "metadata": {},
     "output_type": "execute_result"
    }
   ],
   "source": [
    "y"
   ]
  },
  {
   "cell_type": "code",
   "execution_count": 9,
   "id": "422131ac",
   "metadata": {},
   "outputs": [
    {
     "data": {
      "text/plain": [
       "<AxesSubplot:>"
      ]
     },
     "execution_count": 9,
     "metadata": {},
     "output_type": "execute_result"
    },
    {
     "data": {
      "image/png": "[encoded data removed]",
      "text/plain": [
       "<Figure size 432x288 with 1 Axes>"
      ]
     },
     "metadata": {
      "needs_background": "light"
     },
     "output_type": "display_data"
    }
   ],
   "source": [
    "y.plot(kind = 'bar')"
   ]
  }
 ],
 "metadata": {
  "kernelspec": {
   "display_name": "Python 3 (ipykernel)",
   "language": "python",
   "name": "python3"
  },
  "language_info": {
   "codemirror_mode": {
    "name": "ipython",
    "version": 3
   },
   "file_extension": ".py",
   "mimetype": "text/x-python",
   "name": "python",
   "nbconvert_exporter": "python",
   "pygments_lexer": "ipython3",
   "version": "3.9.12"
  }
 },
 "nbformat": 4,
 "nbformat_minor": 5
}
